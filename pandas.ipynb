{
 "cells": [
  {
   "cell_type": "code",
   "execution_count": 1,
   "id": "fe3f7962-6263-4a1e-a2bb-27f5d0a6902e",
   "metadata": {},
   "outputs": [],
   "source": [
    "import pandas as pd"
   ]
  },
  {
   "cell_type": "code",
   "execution_count": 2,
   "id": "0e70bdc4-351f-4622-9316-43bf6467bfe7",
   "metadata": {},
   "outputs": [
    {
     "data": {
      "text/plain": [
       "'2.2.2'"
      ]
     },
     "execution_count": 2,
     "metadata": {},
     "output_type": "execute_result"
    }
   ],
   "source": [
    "pd.__version__"
   ]
  },
  {
   "cell_type": "code",
   "execution_count": 2,
   "id": "db4c42dd-e0dd-48b5-9b4e-b35e2f74ca75",
   "metadata": {},
   "outputs": [],
   "source": [
    "import numpy as np"
   ]
  },
  {
   "cell_type": "code",
   "execution_count": 4,
   "id": "913bd9ac-18b1-414b-9131-6d3db9d25cac",
   "metadata": {},
   "outputs": [
    {
     "data": {
      "text/plain": [
       "'2.0.1'"
      ]
     },
     "execution_count": 4,
     "metadata": {},
     "output_type": "execute_result"
    }
   ],
   "source": [
    "np.__version__"
   ]
  },
  {
   "cell_type": "code",
   "execution_count": 24,
   "id": "e127b9d0-f8df-4400-b5d7-d1e12d243a5c",
   "metadata": {},
   "outputs": [],
   "source": [
    "s1=pd.Series(['a','b','c','d','e','f'],index=[1,2,3,4,5,6])"
   ]
  },
  {
   "cell_type": "code",
   "execution_count": 25,
   "id": "e4930d4f-882c-4051-8014-f85c7da993da",
   "metadata": {},
   "outputs": [
    {
     "name": "stdout",
     "output_type": "stream",
     "text": [
      "1    a\n",
      "2    b\n",
      "3    c\n",
      "4    d\n",
      "5    e\n",
      "6    f\n",
      "dtype: object\n"
     ]
    }
   ],
   "source": [
    "print(s1)"
   ]
  },
  {
   "cell_type": "code",
   "execution_count": 26,
   "id": "c774f69c-24ed-40c6-b2d2-f7628ce3b234",
   "metadata": {},
   "outputs": [],
   "source": [
    "s2=pd.Series(['Aaryabatta','Aristotil','nicolus','newton','plank','kepler'],index=[1,2,3,4,5,6])"
   ]
  },
  {
   "cell_type": "code",
   "execution_count": 6,
   "id": "4add2eca-e38a-41b5-b6d3-ad23d933f1f2",
   "metadata": {},
   "outputs": [
    {
     "data": {
      "text/plain": [
       "1    Aaryabatta\n",
       "2     Aristotil\n",
       "3       nicolus\n",
       "4        newton\n",
       "5         plank\n",
       "6        kepler\n",
       "dtype: object"
      ]
     },
     "execution_count": 6,
     "metadata": {},
     "output_type": "execute_result"
    }
   ],
   "source": [
    "s2"
   ]
  },
  {
   "cell_type": "markdown",
   "id": "0672a7c3-4511-4325-9848-e453ca59b9e1",
   "metadata": {},
   "source": [
    "# dataframe"
   ]
  },
  {
   "cell_type": "code",
   "execution_count": 7,
   "id": "3c7fc90e-2dac-47d9-b409-b691aa098c5c",
   "metadata": {},
   "outputs": [],
   "source": [
    "s3=pd.DataFrame([s1,s2],columns=[\"ramnjhfgvdfg\"])"
   ]
  },
  {
   "cell_type": "code",
   "execution_count": 8,
   "id": "59393711-0a08-4236-9939-d5a34a25b212",
   "metadata": {},
   "outputs": [
    {
     "name": "stdout",
     "output_type": "stream",
     "text": [
      "   ramnjhfgvdfg\n",
      "0           NaN\n",
      "1           NaN\n"
     ]
    }
   ],
   "source": [
    "print(s3)"
   ]
  },
  {
   "cell_type": "code",
   "execution_count": 15,
   "id": "edf9e90a-aee8-4ce6-8a8e-e81cb4decd76",
   "metadata": {},
   "outputs": [],
   "source": [
    "df1=pd.DataFrame(s2,columns=[\"scientist\"])"
   ]
  },
  {
   "cell_type": "code",
   "execution_count": 12,
   "id": "5c51bd33-da11-4b39-b61e-673aaf4199d0",
   "metadata": {},
   "outputs": [
    {
     "data": {
      "text/html": [
       "<div>\n",
       "<style scoped>\n",
       "    .dataframe tbody tr th:only-of-type {\n",
       "        vertical-align: middle;\n",
       "    }\n",
       "\n",
       "    .dataframe tbody tr th {\n",
       "        vertical-align: top;\n",
       "    }\n",
       "\n",
       "    .dataframe thead th {\n",
       "        text-align: right;\n",
       "    }\n",
       "</style>\n",
       "<table border=\"1\" class=\"dataframe\">\n",
       "  <thead>\n",
       "    <tr style=\"text-align: right;\">\n",
       "      <th></th>\n",
       "      <th>scientist</th>\n",
       "    </tr>\n",
       "  </thead>\n",
       "  <tbody>\n",
       "    <tr>\n",
       "      <th>1</th>\n",
       "      <td>Aaryabatta</td>\n",
       "    </tr>\n",
       "    <tr>\n",
       "      <th>2</th>\n",
       "      <td>Aristotil</td>\n",
       "    </tr>\n",
       "    <tr>\n",
       "      <th>3</th>\n",
       "      <td>nicolus</td>\n",
       "    </tr>\n",
       "    <tr>\n",
       "      <th>4</th>\n",
       "      <td>newton</td>\n",
       "    </tr>\n",
       "    <tr>\n",
       "      <th>5</th>\n",
       "      <td>plank</td>\n",
       "    </tr>\n",
       "    <tr>\n",
       "      <th>6</th>\n",
       "      <td>kepler</td>\n",
       "    </tr>\n",
       "  </tbody>\n",
       "</table>\n",
       "</div>"
      ],
      "text/plain": [
       "    scientist\n",
       "1  Aaryabatta\n",
       "2   Aristotil\n",
       "3     nicolus\n",
       "4      newton\n",
       "5       plank\n",
       "6      kepler"
      ]
     },
     "execution_count": 12,
     "metadata": {},
     "output_type": "execute_result"
    }
   ],
   "source": [
    "df1"
   ]
  },
  {
   "cell_type": "code",
   "execution_count": 27,
   "id": "e7ae8542-73b8-4ddf-b605-3da243a41862",
   "metadata": {},
   "outputs": [],
   "source": [
    "df2=pd.DataFrame(df1,columns=[\"Field\"])"
   ]
  },
  {
   "cell_type": "code",
   "execution_count": 28,
   "id": "d2c13e93-f124-4a73-bd2b-690f2ff86850",
   "metadata": {},
   "outputs": [],
   "source": [
    "df1[\"juhytg\"]=s1"
   ]
  },
  {
   "cell_type": "code",
   "execution_count": 29,
   "id": "3b5a77c8-c1c7-48c3-ae81-9af4154b73fa",
   "metadata": {},
   "outputs": [
    {
     "data": {
      "text/html": [
       "<div>\n",
       "<style scoped>\n",
       "    .dataframe tbody tr th:only-of-type {\n",
       "        vertical-align: middle;\n",
       "    }\n",
       "\n",
       "    .dataframe tbody tr th {\n",
       "        vertical-align: top;\n",
       "    }\n",
       "\n",
       "    .dataframe thead th {\n",
       "        text-align: right;\n",
       "    }\n",
       "</style>\n",
       "<table border=\"1\" class=\"dataframe\">\n",
       "  <thead>\n",
       "    <tr style=\"text-align: right;\">\n",
       "      <th></th>\n",
       "      <th>scientist</th>\n",
       "      <th>juhytg</th>\n",
       "    </tr>\n",
       "  </thead>\n",
       "  <tbody>\n",
       "    <tr>\n",
       "      <th>1</th>\n",
       "      <td>Aaryabatta</td>\n",
       "      <td>a</td>\n",
       "    </tr>\n",
       "    <tr>\n",
       "      <th>2</th>\n",
       "      <td>Aristotil</td>\n",
       "      <td>b</td>\n",
       "    </tr>\n",
       "    <tr>\n",
       "      <th>3</th>\n",
       "      <td>nicolus</td>\n",
       "      <td>c</td>\n",
       "    </tr>\n",
       "    <tr>\n",
       "      <th>4</th>\n",
       "      <td>newton</td>\n",
       "      <td>d</td>\n",
       "    </tr>\n",
       "    <tr>\n",
       "      <th>5</th>\n",
       "      <td>plank</td>\n",
       "      <td>e</td>\n",
       "    </tr>\n",
       "    <tr>\n",
       "      <th>6</th>\n",
       "      <td>kepler</td>\n",
       "      <td>f</td>\n",
       "    </tr>\n",
       "  </tbody>\n",
       "</table>\n",
       "</div>"
      ],
      "text/plain": [
       "    scientist juhytg\n",
       "1  Aaryabatta      a\n",
       "2   Aristotil      b\n",
       "3     nicolus      c\n",
       "4      newton      d\n",
       "5       plank      e\n",
       "6      kepler      f"
      ]
     },
     "execution_count": 29,
     "metadata": {},
     "output_type": "execute_result"
    }
   ],
   "source": [
    "df1"
   ]
  },
  {
   "cell_type": "code",
   "execution_count": 30,
   "id": "1b79f33b-f149-4f04-9c44-97470ca07218",
   "metadata": {},
   "outputs": [],
   "source": [
    "cars={'luxurious':{1:'BMW',2:'Lamborghini',3:'Jaguar',4:'Mercedes Benz'},'Nonluxury':{1:'suzuki',2:\"Honda\",3:'Hyundai',4:'TATA'}}"
   ]
  },
  {
   "cell_type": "code",
   "execution_count": 32,
   "id": "b7eddae2-0b99-4ec0-b1d4-76d578d292fc",
   "metadata": {},
   "outputs": [],
   "source": [
    "dataframe=pd.DataFrame(cars,columns=['luxurious','Nonluxury'])"
   ]
  },
  {
   "cell_type": "code",
   "execution_count": 33,
   "id": "663bffbc-1a9c-4f8c-889d-d7662e3e482d",
   "metadata": {},
   "outputs": [
    {
     "data": {
      "text/html": [
       "<div>\n",
       "<style scoped>\n",
       "    .dataframe tbody tr th:only-of-type {\n",
       "        vertical-align: middle;\n",
       "    }\n",
       "\n",
       "    .dataframe tbody tr th {\n",
       "        vertical-align: top;\n",
       "    }\n",
       "\n",
       "    .dataframe thead th {\n",
       "        text-align: right;\n",
       "    }\n",
       "</style>\n",
       "<table border=\"1\" class=\"dataframe\">\n",
       "  <thead>\n",
       "    <tr style=\"text-align: right;\">\n",
       "      <th></th>\n",
       "      <th>luxurious</th>\n",
       "      <th>Nonluxury</th>\n",
       "    </tr>\n",
       "  </thead>\n",
       "  <tbody>\n",
       "    <tr>\n",
       "      <th>1</th>\n",
       "      <td>BMW</td>\n",
       "      <td>suzuki</td>\n",
       "    </tr>\n",
       "    <tr>\n",
       "      <th>2</th>\n",
       "      <td>Lamborghini</td>\n",
       "      <td>Honda</td>\n",
       "    </tr>\n",
       "    <tr>\n",
       "      <th>3</th>\n",
       "      <td>Jaguar</td>\n",
       "      <td>Hyundai</td>\n",
       "    </tr>\n",
       "    <tr>\n",
       "      <th>4</th>\n",
       "      <td>Mercedes Benz</td>\n",
       "      <td>TATA</td>\n",
       "    </tr>\n",
       "  </tbody>\n",
       "</table>\n",
       "</div>"
      ],
      "text/plain": [
       "       luxurious Nonluxury\n",
       "1            BMW    suzuki\n",
       "2    Lamborghini     Honda\n",
       "3         Jaguar   Hyundai\n",
       "4  Mercedes Benz      TATA"
      ]
     },
     "execution_count": 33,
     "metadata": {},
     "output_type": "execute_result"
    }
   ],
   "source": [
    "dataframe"
   ]
  },
  {
   "cell_type": "markdown",
   "id": "076585e1-ded8-44ec-b07d-29f8aba6ee47",
   "metadata": {},
   "source": [
    "# TASK"
   ]
  },
  {
   "cell_type": "code",
   "execution_count": 34,
   "id": "3d70fa44-d025-4bb8-816c-878e541b8345",
   "metadata": {},
   "outputs": [],
   "source": [
    "task={'name':{1:'Ganesh',2:'Rizwan',3:'Jaya Parakash',4:\"Sriram\",5:'Hari'},'regno':{1:10,2:20,3:30,4:40,5:50},'year':{1:'III',2:\"III\",3:'III',4:'III',5:'III'}}"
   ]
  },
  {
   "cell_type": "code",
   "execution_count": 35,
   "id": "9d2f4d11-b66d-4919-935a-200d2e5153fa",
   "metadata": {},
   "outputs": [],
   "source": [
    "dtf=pd.DataFrame(task,columns=['name','regno','year'])"
   ]
  },
  {
   "cell_type": "code",
   "execution_count": 37,
   "id": "5130a5a0-0af2-4c07-ae04-78a8923ae19f",
   "metadata": {},
   "outputs": [
    {
     "data": {
      "text/html": [
       "<div>\n",
       "<style scoped>\n",
       "    .dataframe tbody tr th:only-of-type {\n",
       "        vertical-align: middle;\n",
       "    }\n",
       "\n",
       "    .dataframe tbody tr th {\n",
       "        vertical-align: top;\n",
       "    }\n",
       "\n",
       "    .dataframe thead th {\n",
       "        text-align: right;\n",
       "    }\n",
       "</style>\n",
       "<table border=\"1\" class=\"dataframe\">\n",
       "  <thead>\n",
       "    <tr style=\"text-align: right;\">\n",
       "      <th></th>\n",
       "      <th>name</th>\n",
       "      <th>regno</th>\n",
       "      <th>year</th>\n",
       "    </tr>\n",
       "  </thead>\n",
       "  <tbody>\n",
       "    <tr>\n",
       "      <th>1</th>\n",
       "      <td>Ganesh</td>\n",
       "      <td>10</td>\n",
       "      <td>III</td>\n",
       "    </tr>\n",
       "    <tr>\n",
       "      <th>2</th>\n",
       "      <td>Rizwan</td>\n",
       "      <td>20</td>\n",
       "      <td>III</td>\n",
       "    </tr>\n",
       "    <tr>\n",
       "      <th>3</th>\n",
       "      <td>Jaya Parakash</td>\n",
       "      <td>30</td>\n",
       "      <td>III</td>\n",
       "    </tr>\n",
       "    <tr>\n",
       "      <th>4</th>\n",
       "      <td>Sriram</td>\n",
       "      <td>40</td>\n",
       "      <td>III</td>\n",
       "    </tr>\n",
       "    <tr>\n",
       "      <th>5</th>\n",
       "      <td>Hari</td>\n",
       "      <td>50</td>\n",
       "      <td>III</td>\n",
       "    </tr>\n",
       "  </tbody>\n",
       "</table>\n",
       "</div>"
      ],
      "text/plain": [
       "            name  regno year\n",
       "1         Ganesh     10  III\n",
       "2         Rizwan     20  III\n",
       "3  Jaya Parakash     30  III\n",
       "4         Sriram     40  III\n",
       "5           Hari     50  III"
      ]
     },
     "execution_count": 37,
     "metadata": {},
     "output_type": "execute_result"
    }
   ],
   "source": [
    "dtf"
   ]
  },
  {
   "cell_type": "code",
   "execution_count": 38,
   "id": "620bf8e1-3d65-4eda-b8ea-4657e4d65ca0",
   "metadata": {},
   "outputs": [],
   "source": [
    "name=dtf[\"name\"]"
   ]
  },
  {
   "cell_type": "code",
   "execution_count": 39,
   "id": "2b3ae7a7-e6fa-4713-903b-74cc5bc2e02f",
   "metadata": {},
   "outputs": [
    {
     "data": {
      "text/plain": [
       "1           Ganesh\n",
       "2           Rizwan\n",
       "3    Jaya Parakash\n",
       "4           Sriram\n",
       "5             Hari\n",
       "Name: name, dtype: object"
      ]
     },
     "execution_count": 39,
     "metadata": {},
     "output_type": "execute_result"
    }
   ],
   "source": [
    "name"
   ]
  },
  {
   "cell_type": "code",
   "execution_count": 45,
   "id": "ccf6af2c-e3cb-46fd-87f9-63016a659b67",
   "metadata": {},
   "outputs": [
    {
     "data": {
      "text/html": [
       "<div>\n",
       "<style scoped>\n",
       "    .dataframe tbody tr th:only-of-type {\n",
       "        vertical-align: middle;\n",
       "    }\n",
       "\n",
       "    .dataframe tbody tr th {\n",
       "        vertical-align: top;\n",
       "    }\n",
       "\n",
       "    .dataframe thead th {\n",
       "        text-align: right;\n",
       "    }\n",
       "</style>\n",
       "<table border=\"1\" class=\"dataframe\">\n",
       "  <thead>\n",
       "    <tr style=\"text-align: right;\">\n",
       "      <th></th>\n",
       "      <th>name</th>\n",
       "      <th>regno</th>\n",
       "    </tr>\n",
       "  </thead>\n",
       "  <tbody>\n",
       "    <tr>\n",
       "      <th>1</th>\n",
       "      <td>Ganesh</td>\n",
       "      <td>10</td>\n",
       "    </tr>\n",
       "    <tr>\n",
       "      <th>2</th>\n",
       "      <td>Rizwan</td>\n",
       "      <td>20</td>\n",
       "    </tr>\n",
       "    <tr>\n",
       "      <th>3</th>\n",
       "      <td>Jaya Parakash</td>\n",
       "      <td>30</td>\n",
       "    </tr>\n",
       "    <tr>\n",
       "      <th>4</th>\n",
       "      <td>Sriram</td>\n",
       "      <td>40</td>\n",
       "    </tr>\n",
       "    <tr>\n",
       "      <th>5</th>\n",
       "      <td>Hari</td>\n",
       "      <td>50</td>\n",
       "    </tr>\n",
       "  </tbody>\n",
       "</table>\n",
       "</div>"
      ],
      "text/plain": [
       "            name  regno\n",
       "1         Ganesh     10\n",
       "2         Rizwan     20\n",
       "3  Jaya Parakash     30\n",
       "4         Sriram     40\n",
       "5           Hari     50"
      ]
     },
     "execution_count": 45,
     "metadata": {},
     "output_type": "execute_result"
    }
   ],
   "source": [
    "dtf.drop(\"year\",axis=1)"
   ]
  },
  {
   "cell_type": "code",
   "execution_count": null,
   "id": "f82da74e-750c-45db-a7fd-097d4fc30a80",
   "metadata": {},
   "outputs": [],
   "source": []
  }
 ],
 "metadata": {
  "kernelspec": {
   "display_name": "Python 3 (ipykernel)",
   "language": "python",
   "name": "python3"
  },
  "language_info": {
   "codemirror_mode": {
    "name": "ipython",
    "version": 3
   },
   "file_extension": ".py",
   "mimetype": "text/x-python",
   "name": "python",
   "nbconvert_exporter": "python",
   "pygments_lexer": "ipython3",
   "version": "3.9.18"
  }
 },
 "nbformat": 4,
 "nbformat_minor": 5
}
