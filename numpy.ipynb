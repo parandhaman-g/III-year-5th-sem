{
 "cells": [
  {
   "cell_type": "code",
   "execution_count": 1,
   "id": "77e4f383-6ce8-46c0-9f9a-7a18940c8f7b",
   "metadata": {},
   "outputs": [],
   "source": [
    "import numpy as np"
   ]
  },
  {
   "cell_type": "code",
   "execution_count": 8,
   "id": "ed8ec6fb-7c4a-48ad-856f-59657dae37f2",
   "metadata": {},
   "outputs": [],
   "source": [
    "ar1=np.array(6)"
   ]
  },
  {
   "cell_type": "code",
   "execution_count": 9,
   "id": "27d5f0e9-3afb-42bb-9638-aece3b35c079",
   "metadata": {},
   "outputs": [
    {
     "data": {
      "text/plain": [
       "array(6)"
      ]
     },
     "execution_count": 9,
     "metadata": {},
     "output_type": "execute_result"
    }
   ],
   "source": [
    "ar1"
   ]
  },
  {
   "cell_type": "code",
   "execution_count": 4,
   "id": "d7398397-8ace-47fc-af9c-27fdba7308f5",
   "metadata": {},
   "outputs": [
    {
     "data": {
      "text/plain": [
       "numpy.ndarray"
      ]
     },
     "execution_count": 4,
     "metadata": {},
     "output_type": "execute_result"
    }
   ],
   "source": [
    "type(ar1)"
   ]
  },
  {
   "cell_type": "code",
   "execution_count": 12,
   "id": "11787ee0-9319-4b64-93f3-77bfde7395b6",
   "metadata": {},
   "outputs": [],
   "source": [
    "ar2=np.array([[1,2,3,4],[5,6,7,8]])"
   ]
  },
  {
   "cell_type": "code",
   "execution_count": 13,
   "id": "45912d3b-77df-45f6-8249-edad6c97ed7b",
   "metadata": {},
   "outputs": [
    {
     "data": {
      "text/plain": [
       "array([[1, 2, 3, 4],\n",
       "       [5, 6, 7, 8]])"
      ]
     },
     "execution_count": 13,
     "metadata": {},
     "output_type": "execute_result"
    }
   ],
   "source": [
    "ar2"
   ]
  },
  {
   "cell_type": "code",
   "execution_count": null,
   "id": "2f0fae7a-d476-4e7e-80f0-cf29ff5ac0f5",
   "metadata": {},
   "outputs": [],
   "source": [
    "Array types\n",
    "\n",
    "1. Zero Array\n",
    "2. Ones Array\n",
    "3. Empty Array\n",
    "4. Array for range"
   ]
  },
  {
   "cell_type": "code",
   "execution_count": 15,
   "id": "1a3e4353-e173-45fb-970b-434b07e84b96",
   "metadata": {},
   "outputs": [],
   "source": [
    "zero_array=np.zeros(2)"
   ]
  },
  {
   "cell_type": "code",
   "execution_count": 16,
   "id": "3eadb752-e651-40c7-bc41-8d9c5725ca9a",
   "metadata": {},
   "outputs": [
    {
     "data": {
      "text/plain": [
       "array([0., 0.])"
      ]
     },
     "execution_count": 16,
     "metadata": {},
     "output_type": "execute_result"
    }
   ],
   "source": [
    "zero_array"
   ]
  },
  {
   "cell_type": "code",
   "execution_count": 38,
   "id": "53e54ae4-7625-436c-97d1-8a8939953d9f",
   "metadata": {},
   "outputs": [],
   "source": [
    "ar3=np.arange(2,18,2)"
   ]
  },
  {
   "cell_type": "code",
   "execution_count": 39,
   "id": "f47a7843-2570-4163-a9a0-298ca6460921",
   "metadata": {},
   "outputs": [
    {
     "data": {
      "text/plain": [
       "array([ 2,  4,  6,  8, 10, 12, 14, 16])"
      ]
     },
     "execution_count": 39,
     "metadata": {},
     "output_type": "execute_result"
    }
   ],
   "source": [
    "ar3"
   ]
  },
  {
   "cell_type": "code",
   "execution_count": 40,
   "id": "d6ecd501-2a88-434c-8258-1eeddf7ca9b1",
   "metadata": {},
   "outputs": [],
   "source": [
    "ar4=np.transpose(ar2)"
   ]
  },
  {
   "cell_type": "code",
   "execution_count": 41,
   "id": "0e91c818-0249-4df2-9713-d292d9d20808",
   "metadata": {},
   "outputs": [
    {
     "data": {
      "text/plain": [
       "array([[1, 5],\n",
       "       [2, 6],\n",
       "       [3, 7],\n",
       "       [4, 8]])"
      ]
     },
     "execution_count": 41,
     "metadata": {},
     "output_type": "execute_result"
    }
   ],
   "source": [
    "ar4"
   ]
  },
  {
   "cell_type": "code",
   "execution_count": 42,
   "id": "ec115a11-775b-4cfd-9c57-99ed08d00173",
   "metadata": {},
   "outputs": [],
   "source": [
    "ar5=np.ravel(ar4)"
   ]
  },
  {
   "cell_type": "code",
   "execution_count": 43,
   "id": "523e0a67-c4b0-49ab-8bdd-627695c2ec9b",
   "metadata": {},
   "outputs": [
    {
     "data": {
      "text/plain": [
       "array([1, 5, 2, 6, 3, 7, 4, 8])"
      ]
     },
     "execution_count": 43,
     "metadata": {},
     "output_type": "execute_result"
    }
   ],
   "source": [
    "ar5"
   ]
  },
  {
   "cell_type": "code",
   "execution_count": 46,
   "id": "613532e2-a940-40e0-a712-68bfc2c3818b",
   "metadata": {},
   "outputs": [],
   "source": [
    "concat=np.concatenate((ar5,ar3))"
   ]
  },
  {
   "cell_type": "code",
   "execution_count": 47,
   "id": "089b0118-0197-4d2a-85f3-ffa4935ba042",
   "metadata": {},
   "outputs": [
    {
     "data": {
      "text/plain": [
       "array([ 1,  5,  2,  6,  3,  7,  4,  8,  2,  4,  6,  8, 10, 12, 14, 16])"
      ]
     },
     "execution_count": 47,
     "metadata": {},
     "output_type": "execute_result"
    }
   ],
   "source": [
    "concat"
   ]
  },
  {
   "cell_type": "code",
   "execution_count": 48,
   "id": "df26df7e-4970-40ca-a748-55cf6fb76d08",
   "metadata": {},
   "outputs": [],
   "source": [
    "hori=np.hstack((ar5,ar3))"
   ]
  },
  {
   "cell_type": "code",
   "execution_count": 49,
   "id": "87b37acf-4404-475c-b08c-b4b8e56078e5",
   "metadata": {},
   "outputs": [
    {
     "data": {
      "text/plain": [
       "array([ 1,  5,  2,  6,  3,  7,  4,  8,  2,  4,  6,  8, 10, 12, 14, 16])"
      ]
     },
     "execution_count": 49,
     "metadata": {},
     "output_type": "execute_result"
    }
   ],
   "source": [
    "hori"
   ]
  },
  {
   "cell_type": "code",
   "execution_count": 50,
   "id": "5ebb753d-5501-4e53-8678-2a91f4b54850",
   "metadata": {},
   "outputs": [],
   "source": [
    "vert=np.vstack((ar5,ar3))"
   ]
  },
  {
   "cell_type": "code",
   "execution_count": 51,
   "id": "bdd0eb91-9841-4b6e-802a-63a927619eaf",
   "metadata": {},
   "outputs": [
    {
     "data": {
      "text/plain": [
       "array([[ 1,  5,  2,  6,  3,  7,  4,  8],\n",
       "       [ 2,  4,  6,  8, 10, 12, 14, 16]])"
      ]
     },
     "execution_count": 51,
     "metadata": {},
     "output_type": "execute_result"
    }
   ],
   "source": [
    "vert"
   ]
  },
  {
   "cell_type": "code",
   "execution_count": null,
   "id": "3f7fec5e-ecd3-489c-83c0-1316165e096b",
   "metadata": {},
   "outputs": [],
   "source": []
  }
 ],
 "metadata": {
  "kernelspec": {
   "display_name": "Python 3 (ipykernel)",
   "language": "python",
   "name": "python3"
  },
  "language_info": {
   "codemirror_mode": {
    "name": "ipython",
    "version": 3
   },
   "file_extension": ".py",
   "mimetype": "text/x-python",
   "name": "python",
   "nbconvert_exporter": "python",
   "pygments_lexer": "ipython3",
   "version": "3.9.18"
  }
 },
 "nbformat": 4,
 "nbformat_minor": 5
}
